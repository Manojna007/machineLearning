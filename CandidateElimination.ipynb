{
  "cells": [
    {
      "cell_type": "markdown",
      "metadata": {
        "id": "view-in-github",
        "colab_type": "text"
      },
      "source": [
        "<a href=\"https://colab.research.google.com/github/Manojna007/machineLearning/blob/main/CandidateElimination.ipynb\" target=\"_parent\"><img src=\"https://colab.research.google.com/assets/colab-badge.svg\" alt=\"Open In Colab\"/></a>"
      ]
    },
    {
      "cell_type": "code",
      "execution_count": null,
      "id": "2d697fff",
      "metadata": {
        "id": "2d697fff"
      },
      "outputs": [],
      "source": [
        "import csv"
      ]
    },
    {
      "cell_type": "code",
      "execution_count": null,
      "id": "813b5340",
      "metadata": {
        "colab": {
          "base_uri": "https://localhost:8080/"
        },
        "id": "813b5340",
        "outputId": "d80b6495-8cde-4c52-94d6-79d163cb0d47"
      },
      "outputs": [
        {
          "output_type": "execute_result",
          "data": {
            "text/plain": [
              "[('Sunny', 'Warm', 'Normal', 'Strong', 'Warm', 'Same', 'Y'),\n",
              " ('Sunny', 'Warm', 'High', 'Strong', 'Warm', 'Same', 'Y'),\n",
              " ('Rainy', 'Cold', 'High', 'Strong', 'Warm', 'Change', 'N'),\n",
              " ('Sunny', 'Warm', 'High', 'Strong', 'Cold', 'Change', 'Y')]"
            ]
          },
          "metadata": {},
          "execution_count": 3
        }
      ],
      "source": [
        "pd = open('trainingexamples.csv')\n",
        "with pd  as csvFile:\n",
        "    data = [tuple(line) for line in csv.reader(csvFile)]\n",
        "data"
      ]
    },
    {
      "cell_type": "code",
      "execution_count": null,
      "id": "839eca95",
      "metadata": {
        "id": "839eca95"
      },
      "outputs": [],
      "source": [
        "def Domain(): #All possible unique values an attribute/field can hold.\n",
        "    D =[]\n",
        "    for i in range(len(data[0])):\n",
        "        D.append(list(set([ele[i] for ele in data])))\n",
        "    return D"
      ]
    },
    {
      "cell_type": "code",
      "execution_count": null,
      "id": "93b64858",
      "metadata": {
        "id": "93b64858"
      },
      "outputs": [],
      "source": [
        "D = Domain()"
      ]
    },
    {
      "cell_type": "code",
      "execution_count": null,
      "id": "c95e9d44",
      "metadata": {
        "colab": {
          "base_uri": "https://localhost:8080/"
        },
        "id": "c95e9d44",
        "outputId": "10e3600f-3a6e-46f6-ef1d-9308630a3c1e"
      },
      "outputs": [
        {
          "output_type": "execute_result",
          "data": {
            "text/plain": [
              "[['Rainy', 'Sunny'],\n",
              " ['Warm', 'Cold'],\n",
              " ['Normal', 'High'],\n",
              " ['Strong'],\n",
              " ['Warm', 'Cold'],\n",
              " ['Same', 'Change'],\n",
              " ['Y', 'N']]"
            ]
          },
          "metadata": {},
          "execution_count": 6
        }
      ],
      "source": [
        "D"
      ]
    },
    {
      "cell_type": "code",
      "execution_count": null,
      "id": "fea595ee",
      "metadata": {
        "id": "fea595ee"
      },
      "outputs": [],
      "source": [
        "def consistant(h1, h2):\n",
        "    for x, y in zip(h1, h2):\n",
        "        if not (x == \"?\" or (x != \"ɸ\" and (x == y or y == \"ɸ\"))):\n",
        "            return False\n",
        "    return True"
      ]
    },
    {
      "cell_type": "code",
      "execution_count": null,
      "id": "cc6d27cb",
      "metadata": {
        "colab": {
          "base_uri": "https://localhost:8080/"
        },
        "id": "cc6d27cb",
        "outputId": "ae513eaf-9e4a-4bcf-f7ca-2269fc5f1492"
      },
      "outputs": [
        {
          "output_type": "stream",
          "name": "stdout",
          "text": [
            "\n",
            " G[0]: {('?', '?', '?', '?', '?', '?')}\n",
            "\n",
            " S[0]: ['ɸ', 'ɸ', 'ɸ', 'ɸ', 'ɸ', 'ɸ']\n",
            "\n",
            " G[1]: {('?', '?', '?', '?', '?', '?')}\n",
            "\n",
            " S[1]: ['Sunny', 'Warm', 'Normal', 'Strong', 'Warm', 'Same']\n",
            "\n",
            " G[2]: {('?', '?', '?', '?', '?', '?')}\n",
            "\n",
            " S[2]: ['Sunny', 'Warm', '?', 'Strong', 'Warm', 'Same']\n",
            "\n",
            " G[3]: {('Sunny', '?', '?', '?', '?', '?'), ('?', '?', '?', '?', '?', 'Same'), ('?', 'Warm', '?', '?', '?', '?')}\n",
            "\n",
            " S[3]: ['Sunny', 'Warm', '?', 'Strong', 'Warm', 'Same']\n",
            "\n",
            " G[4]: {('Sunny', '?', '?', '?', '?', '?'), ('?', 'Warm', '?', '?', '?', '?')}\n",
            "\n",
            " S[4]: ['Sunny', 'Warm', '?', 'Strong', '?', '?']\n"
          ]
        }
      ],
      "source": [
        "def candidate_elimination():\n",
        "    G = {('?',)*(len(data[0]) - 1),}\n",
        "    S = ['ɸ']*(len(data[0]) - 1)\n",
        "    no = 0\n",
        "    print(\"\\n G[{0}]:\".format(no), G)\n",
        "    print(\"\\n S[{0}]:\".format(no), S)\n",
        "    for item in data:\n",
        "        no += 1\n",
        "        inp , res = item[:-1] , item[-1]\n",
        "        \n",
        "        if res in \"Yy\": \n",
        "            i = 0 \t\t#Remove from G any inconsistancy\n",
        "            G = {g for g in G if consistant(g,inp)}\n",
        "            for s,x in zip(S,inp):   \t\t# similar to find-s\n",
        "                if not s==x:\n",
        "                    S[i] = '?' if s != 'ɸ' else x\n",
        "                i += 1\n",
        "        else:\n",
        "            S = S \t\t\t#unaffected for this eg.\n",
        "            Gprev = G.copy()\n",
        "            for g in Gprev: \t\t#for each hypothesis\n",
        "                if g not in G: \t\t# if g gets removed.\n",
        "                    continue\n",
        "                for i in range(len(g)):  \t\t#for every fiels/atribute\n",
        "                    if g[i] == \"?\":  \t\t\t#if it can be more generalized.\n",
        "                        for val in D[i]: \t\t# for each possible values in domain.\n",
        "                            if inp[i] != val and val == S[i]: \t\t# check if this possible value in domain is applicable.\n",
        "                                g_new = g[:i] + (val,) + g[i+1:]\n",
        "                                G.add(g_new)\n",
        "                    else:\n",
        "                        G.add(g)  \t\t\t\t# difference_update() used to remove the items from the set which is passed to it.            \n",
        "                G.difference_update([h for h in G if\n",
        "                                 any([consistant(h, g1) for g1 in G if h != g1])])\n",
        "        print(\"\\n G[{0}]:\".format(no), G)\n",
        "        print(\"\\n S[{0}]:\".format(no), S)\n",
        "candidate_elimination()"
      ]
    },
    {
      "cell_type": "code",
      "execution_count": null,
      "id": "f3b8d1d7",
      "metadata": {
        "colab": {
          "base_uri": "https://localhost:8080/"
        },
        "id": "f3b8d1d7",
        "outputId": "91701163-adb3-4436-ebfa-4aaa7435cfe2"
      },
      "outputs": [
        {
          "output_type": "stream",
          "name": "stdout",
          "text": [
            "\n",
            "Step 1 of Candidate Elimination Algorithm\n",
            "['Sunny', 'Warm', '?', 'Strong', 'Warm', 'Same']\n",
            "[['?', '?', '?', '?', '?', '?'], ['?', '?', '?', '?', '?', '?'], ['?', '?', '?', '?', '?', '?'], ['?', '?', '?', '?', '?', '?'], ['?', '?', '?', '?', '?', '?'], ['?', '?', '?', '?', '?', '?']]\n",
            "\n",
            "Step 2 of Candidate Elimination Algorithm\n",
            "['Sunny', 'Warm', '?', 'Strong', 'Warm', 'Same']\n",
            "[['?', '?', '?', '?', '?', '?'], ['?', '?', '?', '?', '?', '?'], ['?', '?', '?', '?', '?', '?'], ['?', '?', '?', '?', '?', '?'], ['?', '?', '?', '?', '?', '?'], ['?', '?', '?', '?', '?', '?']]\n",
            "\n",
            "Step 3 of Candidate Elimination Algorithm\n",
            "['Sunny', 'Warm', '?', 'Strong', 'Warm', 'Same']\n",
            "[['Sunny', '?', '?', '?', '?', '?'], ['?', 'Warm', '?', '?', '?', '?'], ['?', '?', '?', '?', '?', '?'], ['?', '?', '?', '?', '?', '?'], ['?', '?', '?', '?', '?', '?'], ['?', '?', '?', '?', '?', 'Same']]\n",
            "\n",
            "Step 4 of Candidate Elimination Algorithm\n",
            "['Sunny', 'Warm', '?', 'Strong', '?', '?']\n",
            "[['Sunny', '?', '?', '?', '?', '?'], ['?', 'Warm', '?', '?', '?', '?'], ['?', '?', '?', '?', '?', '?'], ['?', '?', '?', '?', '?', '?'], ['?', '?', '?', '?', '?', '?'], ['?', '?', '?', '?', '?', '?']]\n",
            "\n",
            "Final Specific hypothesis:\n",
            " ['Sunny', 'Warm', '?', 'Strong', '?', '?']\n",
            "\n",
            "Final General hypothesis:\n",
            " [['Sunny', '?', '?', '?', '?', '?'], ['?', 'Warm', '?', '?', '?', '?']]\n"
          ]
        }
      ],
      "source": [
        "import csv\n",
        "\n",
        "with open(\"trainingexamples.csv\") as f:\n",
        "    csv_file = csv.reader(f)\n",
        "    data = list(csv_file)\n",
        "\n",
        "    specific = data[1][:-1]\n",
        "    general = [['?' for i in range(len(specific))] for j in range(len(specific))]\n",
        "\n",
        "    for i in data:\n",
        "        if i[-1] == \"Y\":\n",
        "            for j in range(len(specific)):\n",
        "                if i[j] != specific[j]:\n",
        "                    specific[j] = \"?\"\n",
        "                    general[j][j] = \"?\"\n",
        "\n",
        "        elif i[-1] == \"N\":\n",
        "            for j in range(len(specific)):\n",
        "                if i[j] != specific[j]:\n",
        "                    general[j][j] = specific[j]\n",
        "                else:\n",
        "                    general[j][j] = \"?\"\n",
        "\n",
        "        print(\"\\nStep \" + str(data.index(i)+1) + \" of Candidate Elimination Algorithm\")\n",
        "        print(specific)\n",
        "        print(general)\n",
        "\n",
        "    gh = [] # gh = general Hypothesis\n",
        "    for i in general:\n",
        "        for j in i:\n",
        "            if j != '?':\n",
        "                gh.append(i)\n",
        "                break\n",
        "    print(\"\\nFinal Specific hypothesis:\\n\", specific)\n",
        "    print(\"\\nFinal General hypothesis:\\n\", gh)"
      ]
    }
  ],
  "metadata": {
    "kernelspec": {
      "display_name": "Python 3",
      "language": "python",
      "name": "python3"
    },
    "language_info": {
      "codemirror_mode": {
        "name": "ipython",
        "version": 3
      },
      "file_extension": ".py",
      "mimetype": "text/x-python",
      "name": "python",
      "nbconvert_exporter": "python",
      "pygments_lexer": "ipython3",
      "version": "3.8.8"
    },
    "colab": {
      "provenance": [],
      "include_colab_link": true
    }
  },
  "nbformat": 4,
  "nbformat_minor": 5
}