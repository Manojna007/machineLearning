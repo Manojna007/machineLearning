{
  "nbformat": 4,
  "nbformat_minor": 0,
  "metadata": {
    "colab": {
      "provenance": [],
      "authorship_tag": "ABX9TyNcIJN+ILXyIXlCi4d1QRgB",
      "include_colab_link": true
    },
    "kernelspec": {
      "name": "python3",
      "display_name": "Python 3"
    },
    "language_info": {
      "name": "python"
    }
  },
  "cells": [
    {
      "cell_type": "markdown",
      "metadata": {
        "id": "view-in-github",
        "colab_type": "text"
      },
      "source": [
        "<a href=\"https://colab.research.google.com/github/Manojna007/machineLearning/blob/main/SetOperations.ipynb\" target=\"_parent\"><img src=\"https://colab.research.google.com/assets/colab-badge.svg\" alt=\"Open In Colab\"/></a>"
      ]
    },
    {
      "cell_type": "code",
      "execution_count": 2,
      "metadata": {
        "colab": {
          "base_uri": "https://localhost:8080/"
        },
        "id": "l-wf2zo9-xYq",
        "outputId": "859e1c19-e543-4952-f8d8-afddda5cdc03"
      },
      "outputs": [
        {
          "output_type": "stream",
          "name": "stdout",
          "text": [
            "Union of E and N is {0, 1, 2, 3, 4, 5, 6, 8}\n",
            "Intersection of E and N is {2, 4}\n",
            "Difference of E and N is {0, 8, 6}\n",
            "Symmetric difference of E and N is {0, 1, 3, 5, 6, 8}\n"
          ]
        }
      ],
      "source": [
        "# Python program to perform different set operations \n",
        "\n",
        "# define three sets\n",
        "E = {0, 2, 4, 6, 8};\n",
        "N = {1, 2, 3, 4, 5};\n",
        "\n",
        "# set union operation\n",
        "print(\"Union of E and N is\",E | N)\n",
        "\n",
        "# set intersection operation\n",
        "print(\"Intersection of E and N is\",E & N)\n",
        "\n",
        "# set difference operation\n",
        "print(\"Difference of E and N is\",E - N)\n",
        "\n",
        "# set symmetric difference operation\n",
        "print(\"Symmetric difference of E and N is\",E ^ N)"
      ]
    }
  ]
}