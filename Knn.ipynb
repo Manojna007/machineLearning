{
  "nbformat": 4,
  "nbformat_minor": 0,
  "metadata": {
    "colab": {
      "provenance": [],
      "authorship_tag": "ABX9TyNGdH9TqUQLVMQ7RIpWUcBi",
      "include_colab_link": true
    },
    "kernelspec": {
      "name": "python3",
      "display_name": "Python 3"
    },
    "language_info": {
      "name": "python"
    }
  },
  "cells": [
    {
      "cell_type": "markdown",
      "metadata": {
        "id": "view-in-github",
        "colab_type": "text"
      },
      "source": [
        "<a href=\"https://colab.research.google.com/github/Manojna007/machineLearning/blob/main/Knn.ipynb\" target=\"_parent\"><img src=\"https://colab.research.google.com/assets/colab-badge.svg\" alt=\"Open In Colab\"/></a>"
      ]
    },
    {
      "cell_type": "code",
      "execution_count": 1,
      "metadata": {
        "id": "oGx3pGuPV-yc"
      },
      "outputs": [],
      "source": [
        "from sklearn.datasets import load_iris\n",
        "from sklearn.neighbors import KNeighborsClassifier\n",
        "import numpy as np\n",
        "from sklearn.model_selection import train_test_split\n",
        "\n"
      ]
    },
    {
      "cell_type": "code",
      "source": [
        "\n",
        "iris_dataset=load_iris()\n",
        "print(\"\\n TARGET NAMES: \\n \", iris_dataset.target_names)\n",
        "X_train, X_test, y_train, y_test = train_test_split(iris_dataset[\"data\"], iris_dataset[\"target\"], random_state=0)"
      ],
      "metadata": {
        "colab": {
          "base_uri": "https://localhost:8080/"
        },
        "id": "Wi7hEteQWDC7",
        "outputId": "f4a72c7b-f285-4432-8fa6-bc744cebfbb1"
      },
      "execution_count": 2,
      "outputs": [
        {
          "output_type": "stream",
          "name": "stdout",
          "text": [
            "\n",
            " TARGET NAMES: \n",
            "  ['setosa' 'versicolor' 'virginica']\n"
          ]
        }
      ]
    },
    {
      "cell_type": "code",
      "source": [
        "print(\"\\n X TRAIN \\n\", X_train)\n",
        "print(\"\\n X TEST \\n\", X_test)\n",
        "print(\"\\n Y TRAIN \\n\", y_train)\n",
        "print(\"\\n Y TEST \\n\", y_test)"
      ],
      "metadata": {
        "colab": {
          "base_uri": "https://localhost:8080/"
        },
        "id": "k4Sv3azJWGtS",
        "outputId": "1f69d285-4d93-4b31-e541-88e9846e8c9d"
      },
      "execution_count": 3,
      "outputs": [
        {
          "output_type": "stream",
          "name": "stdout",
          "text": [
            "\n",
            " X TRAIN \n",
            " [[5.9 3.  4.2 1.5]\n",
            " [5.8 2.6 4.  1.2]\n",
            " [6.8 3.  5.5 2.1]\n",
            " [4.7 3.2 1.3 0.2]\n",
            " [6.9 3.1 5.1 2.3]\n",
            " [5.  3.5 1.6 0.6]\n",
            " [5.4 3.7 1.5 0.2]\n",
            " [5.  2.  3.5 1. ]\n",
            " [6.5 3.  5.5 1.8]\n",
            " [6.7 3.3 5.7 2.5]\n",
            " [6.  2.2 5.  1.5]\n",
            " [6.7 2.5 5.8 1.8]\n",
            " [5.6 2.5 3.9 1.1]\n",
            " [7.7 3.  6.1 2.3]\n",
            " [6.3 3.3 4.7 1.6]\n",
            " [5.5 2.4 3.8 1.1]\n",
            " [6.3 2.7 4.9 1.8]\n",
            " [6.3 2.8 5.1 1.5]\n",
            " [4.9 2.5 4.5 1.7]\n",
            " [6.3 2.5 5.  1.9]\n",
            " [7.  3.2 4.7 1.4]\n",
            " [6.5 3.  5.2 2. ]\n",
            " [6.  3.4 4.5 1.6]\n",
            " [4.8 3.1 1.6 0.2]\n",
            " [5.8 2.7 5.1 1.9]\n",
            " [5.6 2.7 4.2 1.3]\n",
            " [5.6 2.9 3.6 1.3]\n",
            " [5.5 2.5 4.  1.3]\n",
            " [6.1 3.  4.6 1.4]\n",
            " [7.2 3.2 6.  1.8]\n",
            " [5.3 3.7 1.5 0.2]\n",
            " [4.3 3.  1.1 0.1]\n",
            " [6.4 2.7 5.3 1.9]\n",
            " [5.7 3.  4.2 1.2]\n",
            " [5.4 3.4 1.7 0.2]\n",
            " [5.7 4.4 1.5 0.4]\n",
            " [6.9 3.1 4.9 1.5]\n",
            " [4.6 3.1 1.5 0.2]\n",
            " [5.9 3.  5.1 1.8]\n",
            " [5.1 2.5 3.  1.1]\n",
            " [4.6 3.4 1.4 0.3]\n",
            " [6.2 2.2 4.5 1.5]\n",
            " [7.2 3.6 6.1 2.5]\n",
            " [5.7 2.9 4.2 1.3]\n",
            " [4.8 3.  1.4 0.1]\n",
            " [7.1 3.  5.9 2.1]\n",
            " [6.9 3.2 5.7 2.3]\n",
            " [6.5 3.  5.8 2.2]\n",
            " [6.4 2.8 5.6 2.1]\n",
            " [5.1 3.8 1.6 0.2]\n",
            " [4.8 3.4 1.6 0.2]\n",
            " [6.5 3.2 5.1 2. ]\n",
            " [6.7 3.3 5.7 2.1]\n",
            " [4.5 2.3 1.3 0.3]\n",
            " [6.2 3.4 5.4 2.3]\n",
            " [4.9 3.  1.4 0.2]\n",
            " [5.7 2.5 5.  2. ]\n",
            " [6.9 3.1 5.4 2.1]\n",
            " [4.4 3.2 1.3 0.2]\n",
            " [5.  3.6 1.4 0.2]\n",
            " [7.2 3.  5.8 1.6]\n",
            " [5.1 3.5 1.4 0.3]\n",
            " [4.4 3.  1.3 0.2]\n",
            " [5.4 3.9 1.7 0.4]\n",
            " [5.5 2.3 4.  1.3]\n",
            " [6.8 3.2 5.9 2.3]\n",
            " [7.6 3.  6.6 2.1]\n",
            " [5.1 3.5 1.4 0.2]\n",
            " [4.9 3.1 1.5 0.2]\n",
            " [5.2 3.4 1.4 0.2]\n",
            " [5.7 2.8 4.5 1.3]\n",
            " [6.6 3.  4.4 1.4]\n",
            " [5.  3.2 1.2 0.2]\n",
            " [5.1 3.3 1.7 0.5]\n",
            " [6.4 2.9 4.3 1.3]\n",
            " [5.4 3.4 1.5 0.4]\n",
            " [7.7 2.6 6.9 2.3]\n",
            " [4.9 2.4 3.3 1. ]\n",
            " [7.9 3.8 6.4 2. ]\n",
            " [6.7 3.1 4.4 1.4]\n",
            " [5.2 4.1 1.5 0.1]\n",
            " [6.  3.  4.8 1.8]\n",
            " [5.8 4.  1.2 0.2]\n",
            " [7.7 2.8 6.7 2. ]\n",
            " [5.1 3.8 1.5 0.3]\n",
            " [4.7 3.2 1.6 0.2]\n",
            " [7.4 2.8 6.1 1.9]\n",
            " [5.  3.3 1.4 0.2]\n",
            " [6.3 3.4 5.6 2.4]\n",
            " [5.7 2.8 4.1 1.3]\n",
            " [5.8 2.7 3.9 1.2]\n",
            " [5.7 2.6 3.5 1. ]\n",
            " [6.4 3.2 5.3 2.3]\n",
            " [6.7 3.  5.2 2.3]\n",
            " [6.3 2.5 4.9 1.5]\n",
            " [6.7 3.  5.  1.7]\n",
            " [5.  3.  1.6 0.2]\n",
            " [5.5 2.4 3.7 1. ]\n",
            " [6.7 3.1 5.6 2.4]\n",
            " [5.8 2.7 5.1 1.9]\n",
            " [5.1 3.4 1.5 0.2]\n",
            " [6.6 2.9 4.6 1.3]\n",
            " [5.6 3.  4.1 1.3]\n",
            " [5.9 3.2 4.8 1.8]\n",
            " [6.3 2.3 4.4 1.3]\n",
            " [5.5 3.5 1.3 0.2]\n",
            " [5.1 3.7 1.5 0.4]\n",
            " [4.9 3.1 1.5 0.1]\n",
            " [6.3 2.9 5.6 1.8]\n",
            " [5.8 2.7 4.1 1. ]\n",
            " [7.7 3.8 6.7 2.2]\n",
            " [4.6 3.2 1.4 0.2]]\n",
            "\n",
            " X TEST \n",
            " [[5.8 2.8 5.1 2.4]\n",
            " [6.  2.2 4.  1. ]\n",
            " [5.5 4.2 1.4 0.2]\n",
            " [7.3 2.9 6.3 1.8]\n",
            " [5.  3.4 1.5 0.2]\n",
            " [6.3 3.3 6.  2.5]\n",
            " [5.  3.5 1.3 0.3]\n",
            " [6.7 3.1 4.7 1.5]\n",
            " [6.8 2.8 4.8 1.4]\n",
            " [6.1 2.8 4.  1.3]\n",
            " [6.1 2.6 5.6 1.4]\n",
            " [6.4 3.2 4.5 1.5]\n",
            " [6.1 2.8 4.7 1.2]\n",
            " [6.5 2.8 4.6 1.5]\n",
            " [6.1 2.9 4.7 1.4]\n",
            " [4.9 3.6 1.4 0.1]\n",
            " [6.  2.9 4.5 1.5]\n",
            " [5.5 2.6 4.4 1.2]\n",
            " [4.8 3.  1.4 0.3]\n",
            " [5.4 3.9 1.3 0.4]\n",
            " [5.6 2.8 4.9 2. ]\n",
            " [5.6 3.  4.5 1.5]\n",
            " [4.8 3.4 1.9 0.2]\n",
            " [4.4 2.9 1.4 0.2]\n",
            " [6.2 2.8 4.8 1.8]\n",
            " [4.6 3.6 1.  0.2]\n",
            " [5.1 3.8 1.9 0.4]\n",
            " [6.2 2.9 4.3 1.3]\n",
            " [5.  2.3 3.3 1. ]\n",
            " [5.  3.4 1.6 0.4]\n",
            " [6.4 3.1 5.5 1.8]\n",
            " [5.4 3.  4.5 1.5]\n",
            " [5.2 3.5 1.5 0.2]\n",
            " [6.1 3.  4.9 1.8]\n",
            " [6.4 2.8 5.6 2.2]\n",
            " [5.2 2.7 3.9 1.4]\n",
            " [5.7 3.8 1.7 0.3]\n",
            " [6.  2.7 5.1 1.6]]\n",
            "\n",
            " Y TRAIN \n",
            " [1 1 2 0 2 0 0 1 2 2 2 2 1 2 1 1 2 2 2 2 1 2 1 0 2 1 1 1 1 2 0 0 2 1 0 0 1\n",
            " 0 2 1 0 1 2 1 0 2 2 2 2 0 0 2 2 0 2 0 2 2 0 0 2 0 0 0 1 2 2 0 0 0 1 1 0 0\n",
            " 1 0 2 1 2 1 0 2 0 2 0 0 2 0 2 1 1 1 2 2 1 1 0 1 2 2 0 1 1 1 1 0 0 0 2 1 2\n",
            " 0]\n",
            "\n",
            " Y TEST \n",
            " [2 1 0 2 0 2 0 1 1 1 2 1 1 1 1 0 1 1 0 0 2 1 0 0 2 0 0 1 1 0 2 1 0 2 2 1 0\n",
            " 1]\n"
          ]
        }
      ]
    },
    {
      "cell_type": "code",
      "source": [
        "kn = KNeighborsClassifier(n_neighbors=5)\n",
        "kn.fit(X_train, y_train)"
      ],
      "metadata": {
        "colab": {
          "base_uri": "https://localhost:8080/"
        },
        "id": "5BRojEH7WLKy",
        "outputId": "f17a67ec-622c-4eef-d5e6-ec001f3e477d"
      },
      "execution_count": 4,
      "outputs": [
        {
          "output_type": "execute_result",
          "data": {
            "text/plain": [
              "KNeighborsClassifier()"
            ]
          },
          "metadata": {},
          "execution_count": 4
        }
      ]
    },
    {
      "cell_type": "code",
      "source": [
        "x_new = np.array([[5, 2.9, 1, 0.2]])\n",
        "print(\"\\n XNEW \\n\",x_new)\n",
        "prediction = kn.predict(x_new)\n",
        "print(\"\\n Predicted target value: {}\\n\".format(prediction))\n",
        "print(\"\\n Predicted feature name: {}\\n\".format(iris_dataset[\"target_names\"][prediction]))"
      ],
      "metadata": {
        "colab": {
          "base_uri": "https://localhost:8080/"
        },
        "id": "IPOmFPEsWOVA",
        "outputId": "ba0bca21-4996-4fae-b0ac-d1a9e9426a0f"
      },
      "execution_count": 5,
      "outputs": [
        {
          "output_type": "stream",
          "name": "stdout",
          "text": [
            "\n",
            " XNEW \n",
            " [[5.  2.9 1.  0.2]]\n",
            "\n",
            " Predicted target value: [0]\n",
            "\n",
            "\n",
            " Predicted feature name: ['setosa']\n",
            "\n"
          ]
        }
      ]
    },
    {
      "cell_type": "code",
      "source": [
        "for i in range(len(X_test)):\n",
        "  x = X_test[i]\n",
        "  x_new = np.array([x])\n",
        "  prediction = kn.predict(x_new)\n",
        "  print(\"*\",x_new)\n",
        "  print(\"Actual : {0} {1}, Predicted :{2}{3}\\n\".format(y_test[i],iris_dataset[\"target_names\"][y_test[i]],prediction,iris_dataset[\"target_names\"][ prediction]))\n",
        "print(\"\\n TEST SCORE[ACCURACY]: {:.2f}\\n\".format(kn.score(X_test, y_test)))"
      ],
      "metadata": {
        "colab": {
          "base_uri": "https://localhost:8080/"
        },
        "id": "XYIdovwTWSTs",
        "outputId": "1361f29d-489a-4572-8be1-f340ce24b9a3"
      },
      "execution_count": 6,
      "outputs": [
        {
          "output_type": "stream",
          "name": "stdout",
          "text": [
            "* [[5.8 2.8 5.1 2.4]]\n",
            "Actual : 2 virginica, Predicted :[2]['virginica']\n",
            "\n",
            "* [[6.  2.2 4.  1. ]]\n",
            "Actual : 1 versicolor, Predicted :[1]['versicolor']\n",
            "\n",
            "* [[5.5 4.2 1.4 0.2]]\n",
            "Actual : 0 setosa, Predicted :[0]['setosa']\n",
            "\n",
            "* [[7.3 2.9 6.3 1.8]]\n",
            "Actual : 2 virginica, Predicted :[2]['virginica']\n",
            "\n",
            "* [[5.  3.4 1.5 0.2]]\n",
            "Actual : 0 setosa, Predicted :[0]['setosa']\n",
            "\n",
            "* [[6.3 3.3 6.  2.5]]\n",
            "Actual : 2 virginica, Predicted :[2]['virginica']\n",
            "\n",
            "* [[5.  3.5 1.3 0.3]]\n",
            "Actual : 0 setosa, Predicted :[0]['setosa']\n",
            "\n",
            "* [[6.7 3.1 4.7 1.5]]\n",
            "Actual : 1 versicolor, Predicted :[1]['versicolor']\n",
            "\n",
            "* [[6.8 2.8 4.8 1.4]]\n",
            "Actual : 1 versicolor, Predicted :[1]['versicolor']\n",
            "\n",
            "* [[6.1 2.8 4.  1.3]]\n",
            "Actual : 1 versicolor, Predicted :[1]['versicolor']\n",
            "\n",
            "* [[6.1 2.6 5.6 1.4]]\n",
            "Actual : 2 virginica, Predicted :[2]['virginica']\n",
            "\n",
            "* [[6.4 3.2 4.5 1.5]]\n",
            "Actual : 1 versicolor, Predicted :[1]['versicolor']\n",
            "\n",
            "* [[6.1 2.8 4.7 1.2]]\n",
            "Actual : 1 versicolor, Predicted :[1]['versicolor']\n",
            "\n",
            "* [[6.5 2.8 4.6 1.5]]\n",
            "Actual : 1 versicolor, Predicted :[1]['versicolor']\n",
            "\n",
            "* [[6.1 2.9 4.7 1.4]]\n",
            "Actual : 1 versicolor, Predicted :[1]['versicolor']\n",
            "\n",
            "* [[4.9 3.6 1.4 0.1]]\n",
            "Actual : 0 setosa, Predicted :[0]['setosa']\n",
            "\n",
            "* [[6.  2.9 4.5 1.5]]\n",
            "Actual : 1 versicolor, Predicted :[1]['versicolor']\n",
            "\n",
            "* [[5.5 2.6 4.4 1.2]]\n",
            "Actual : 1 versicolor, Predicted :[1]['versicolor']\n",
            "\n",
            "* [[4.8 3.  1.4 0.3]]\n",
            "Actual : 0 setosa, Predicted :[0]['setosa']\n",
            "\n",
            "* [[5.4 3.9 1.3 0.4]]\n",
            "Actual : 0 setosa, Predicted :[0]['setosa']\n",
            "\n",
            "* [[5.6 2.8 4.9 2. ]]\n",
            "Actual : 2 virginica, Predicted :[2]['virginica']\n",
            "\n",
            "* [[5.6 3.  4.5 1.5]]\n",
            "Actual : 1 versicolor, Predicted :[1]['versicolor']\n",
            "\n",
            "* [[4.8 3.4 1.9 0.2]]\n",
            "Actual : 0 setosa, Predicted :[0]['setosa']\n",
            "\n",
            "* [[4.4 2.9 1.4 0.2]]\n",
            "Actual : 0 setosa, Predicted :[0]['setosa']\n",
            "\n",
            "* [[6.2 2.8 4.8 1.8]]\n",
            "Actual : 2 virginica, Predicted :[2]['virginica']\n",
            "\n",
            "* [[4.6 3.6 1.  0.2]]\n",
            "Actual : 0 setosa, Predicted :[0]['setosa']\n",
            "\n",
            "* [[5.1 3.8 1.9 0.4]]\n",
            "Actual : 0 setosa, Predicted :[0]['setosa']\n",
            "\n",
            "* [[6.2 2.9 4.3 1.3]]\n",
            "Actual : 1 versicolor, Predicted :[1]['versicolor']\n",
            "\n",
            "* [[5.  2.3 3.3 1. ]]\n",
            "Actual : 1 versicolor, Predicted :[1]['versicolor']\n",
            "\n",
            "* [[5.  3.4 1.6 0.4]]\n",
            "Actual : 0 setosa, Predicted :[0]['setosa']\n",
            "\n",
            "* [[6.4 3.1 5.5 1.8]]\n",
            "Actual : 2 virginica, Predicted :[2]['virginica']\n",
            "\n",
            "* [[5.4 3.  4.5 1.5]]\n",
            "Actual : 1 versicolor, Predicted :[1]['versicolor']\n",
            "\n",
            "* [[5.2 3.5 1.5 0.2]]\n",
            "Actual : 0 setosa, Predicted :[0]['setosa']\n",
            "\n",
            "* [[6.1 3.  4.9 1.8]]\n",
            "Actual : 2 virginica, Predicted :[2]['virginica']\n",
            "\n",
            "* [[6.4 2.8 5.6 2.2]]\n",
            "Actual : 2 virginica, Predicted :[2]['virginica']\n",
            "\n",
            "* [[5.2 2.7 3.9 1.4]]\n",
            "Actual : 1 versicolor, Predicted :[1]['versicolor']\n",
            "\n",
            "* [[5.7 3.8 1.7 0.3]]\n",
            "Actual : 0 setosa, Predicted :[0]['setosa']\n",
            "\n",
            "* [[6.  2.7 5.1 1.6]]\n",
            "Actual : 1 versicolor, Predicted :[2]['virginica']\n",
            "\n",
            "\n",
            " TEST SCORE[ACCURACY]: 0.97\n",
            "\n"
          ]
        }
      ]
    }
  ]
}