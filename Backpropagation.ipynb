{
  "cells": [
    {
      "cell_type": "markdown",
      "metadata": {
        "id": "view-in-github",
        "colab_type": "text"
      },
      "source": [
        "<a href=\"https://colab.research.google.com/github/Manojna007/machineLearning/blob/main/Backpropagation.ipynb\" target=\"_parent\"><img src=\"https://colab.research.google.com/assets/colab-badge.svg\" alt=\"Open In Colab\"/></a>"
      ]
    },
    {
      "cell_type": "code",
      "execution_count": null,
      "id": "548ba4f9",
      "metadata": {
        "id": "548ba4f9"
      },
      "outputs": [],
      "source": [
        "import numpy as np"
      ]
    },
    {
      "cell_type": "code",
      "execution_count": null,
      "id": "1acf65db",
      "metadata": {
        "colab": {
          "base_uri": "https://localhost:8080/"
        },
        "id": "1acf65db",
        "outputId": "6280b411-6d7d-4195-cb74-ce068c31740c"
      },
      "outputs": [
        {
          "output_type": "execute_result",
          "data": {
            "text/plain": [
              "array([[2., 9.],\n",
              "       [1., 5.],\n",
              "       [3., 6.]])"
            ]
          },
          "metadata": {},
          "execution_count": 13
        }
      ],
      "source": [
        "X = np.array(([2, 9], [1, 5], [3, 6]), dtype=float)\n",
        "y = np.array(([92], [86], [89]), dtype=float)\n",
        "X"
      ]
    },
    {
      "cell_type": "code",
      "execution_count": null,
      "id": "6da7689a",
      "metadata": {
        "colab": {
          "base_uri": "https://localhost:8080/"
        },
        "id": "6da7689a",
        "outputId": "151ea473-e401-4625-954d-0262b81adc67"
      },
      "outputs": [
        {
          "output_type": "execute_result",
          "data": {
            "text/plain": [
              "array([[92.],\n",
              "       [86.],\n",
              "       [89.]])"
            ]
          },
          "metadata": {},
          "execution_count": 14
        }
      ],
      "source": [
        "y"
      ]
    },
    {
      "cell_type": "code",
      "execution_count": null,
      "id": "d7fd02b7",
      "metadata": {
        "colab": {
          "base_uri": "https://localhost:8080/"
        },
        "id": "d7fd02b7",
        "outputId": "2db8030e-d08f-47a6-f807-744c7af3f317"
      },
      "outputs": [
        {
          "output_type": "execute_result",
          "data": {
            "text/plain": [
              "array([[0.66666667, 1.        ],\n",
              "       [0.33333333, 0.55555556],\n",
              "       [1.        , 0.66666667]])"
            ]
          },
          "metadata": {},
          "execution_count": 15
        }
      ],
      "source": [
        "X = X/np.amax(X,axis=0)\n",
        "X"
      ]
    },
    {
      "cell_type": "code",
      "execution_count": null,
      "id": "7affaf65",
      "metadata": {
        "colab": {
          "base_uri": "https://localhost:8080/"
        },
        "id": "7affaf65",
        "outputId": "ea54f4a9-f5c6-4b6a-ed8e-84ca65cf4760"
      },
      "outputs": [
        {
          "output_type": "execute_result",
          "data": {
            "text/plain": [
              "array([[0.92],\n",
              "       [0.86],\n",
              "       [0.89]])"
            ]
          },
          "metadata": {},
          "execution_count": 16
        }
      ],
      "source": [
        "y = y/100\n",
        "y"
      ]
    },
    {
      "cell_type": "code",
      "execution_count": null,
      "id": "9d878fa9",
      "metadata": {
        "id": "9d878fa9"
      },
      "outputs": [],
      "source": [
        "def sigmoid (x):\n",
        "    return 1/(1 + np.exp(-x))"
      ]
    },
    {
      "cell_type": "code",
      "execution_count": null,
      "id": "7d248fb2",
      "metadata": {
        "id": "7d248fb2"
      },
      "outputs": [],
      "source": [
        "def derivatives_sigmoid(x):\n",
        "    return x * (1 - x)"
      ]
    },
    {
      "cell_type": "code",
      "execution_count": null,
      "id": "e7525f84",
      "metadata": {
        "id": "e7525f84"
      },
      "outputs": [],
      "source": [
        "epoch=5000                                                      \t#Setting training iterations \n",
        "lr=0.1                                                          \t#Setting learning rate\n",
        "inputlayer_neurons = 2                                          \t#number of features in data set \n",
        "hiddenlayer_neurons = 3                                         \t#number of hidden layers neurons \n",
        "output_neurons = 1                                              \t#number of neurons at output layer"
      ]
    },
    {
      "cell_type": "code",
      "execution_count": null,
      "id": "8f3ab6e8",
      "metadata": {
        "id": "8f3ab6e8"
      },
      "outputs": [],
      "source": [
        "wh=np.random.uniform(size=(inputlayer_neurons,hiddenlayer_neurons))\n",
        "bh=np.random.uniform(size=(1,hiddenlayer_neurons)) \n",
        "wout=np.random.uniform(size=(hiddenlayer_neurons,output_neurons))\n",
        "bout=np.random.uniform(size=(1,output_neurons))"
      ]
    },
    {
      "cell_type": "code",
      "execution_count": null,
      "id": "27d9a22a",
      "metadata": {
        "id": "27d9a22a"
      },
      "outputs": [],
      "source": [
        "for i in range(epoch):\n",
        "    hinp1=np.dot(X,wh)\n",
        "    hinp=hinp1 + bh\n",
        "    hlayer_act = sigmoid(hinp)\n",
        "    outinp1=np.dot(hlayer_act,wout)\n",
        "    outinp= outinp1+ bout\n",
        "    output = sigmoid(outinp)\n",
        "    \n",
        "    EO = y-output\n",
        "    outgrad = derivatives_sigmoid(output)\n",
        "    d_output = EO* outgrad\n",
        "    EH = d_output.dot(wout.T)\n",
        "    \n",
        "    hiddengrad = derivatives_sigmoid(hlayer_act)\n",
        "    d_hiddenlayer = EH * hiddengrad"
      ]
    },
    {
      "cell_type": "code",
      "execution_count": null,
      "id": "a55077be",
      "metadata": {
        "colab": {
          "base_uri": "https://localhost:8080/"
        },
        "id": "a55077be",
        "outputId": "2f6c98a1-5785-4efc-cdc9-e97c528afd98"
      },
      "outputs": [
        {
          "output_type": "stream",
          "name": "stdout",
          "text": [
            "Input: \n",
            "[[0.66666667 1.        ]\n",
            " [0.33333333 0.55555556]\n",
            " [1.         0.66666667]]\n",
            "Actual Output: \n",
            "[[0.92]\n",
            " [0.86]\n",
            " [0.89]]\n",
            "Predicted Output: \n",
            " [[0.86204318]\n",
            " [0.84954912]\n",
            " [0.86162489]]\n"
          ]
        }
      ],
      "source": [
        "wout += hlayer_act.T.dot(d_output) *lr\n",
        "wh += X.T.dot(d_hiddenlayer) *lr\n",
        "\n",
        "print(\"Input: \\n\" + str(X)) \n",
        "print(\"Actual Output: \\n\" + str(y))\n",
        "print(\"Predicted Output: \\n\" ,output)"
      ]
    },
    {
      "cell_type": "code",
      "execution_count": null,
      "id": "2bb2e31a",
      "metadata": {
        "id": "2bb2e31a"
      },
      "outputs": [],
      "source": []
    },
    {
      "cell_type": "code",
      "execution_count": null,
      "id": "66c0f743",
      "metadata": {
        "id": "66c0f743"
      },
      "outputs": [],
      "source": []
    }
  ],
  "metadata": {
    "kernelspec": {
      "display_name": "Python 3",
      "language": "python",
      "name": "python3"
    },
    "language_info": {
      "codemirror_mode": {
        "name": "ipython",
        "version": 3
      },
      "file_extension": ".py",
      "mimetype": "text/x-python",
      "name": "python",
      "nbconvert_exporter": "python",
      "pygments_lexer": "ipython3",
      "version": "3.8.8"
    },
    "colab": {
      "provenance": [],
      "include_colab_link": true
    }
  },
  "nbformat": 4,
  "nbformat_minor": 5
}